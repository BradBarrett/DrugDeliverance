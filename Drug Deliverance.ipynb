{
 "cells": [
  {
   "cell_type": "code",
   "execution_count": 1,
   "metadata": {},
   "outputs": [],
   "source": [
    "# Set the seed value for the notebook so the results are reproducible\n",
    "from numpy.random import seed\n",
    "seed(1)\n",
    "\n",
    "import os\n",
    "import tensorflow as tf\n",
    "from tensorflow.keras.models import Sequential\n",
    "from tensorflow.keras.utils import to_categorical\n",
    "from tensorflow.keras.layers import Dense\n",
    "import tensorflow\n",
    "tensorflow.keras.__version__\n",
    "import numpy as np\n",
    "import pandas as pd\n",
    "from sklearn.model_selection import train_test_split\n",
    "from sklearn.preprocessing import LabelEncoder, MinMaxScaler\n",
    "from sklearn.ensemble import RandomForestClassifier\n",
    "from datetime import datetime"
   ]
  },
  {
   "cell_type": "code",
   "execution_count": 2,
   "metadata": {},
   "outputs": [
    {
     "data": {
      "text/html": [
       "<div>\n",
       "<style scoped>\n",
       "    .dataframe tbody tr th:only-of-type {\n",
       "        vertical-align: middle;\n",
       "    }\n",
       "\n",
       "    .dataframe tbody tr th {\n",
       "        vertical-align: top;\n",
       "    }\n",
       "\n",
       "    .dataframe thead th {\n",
       "        text-align: right;\n",
       "    }\n",
       "</style>\n",
       "<table border=\"1\" class=\"dataframe\">\n",
       "  <thead>\n",
       "    <tr style=\"text-align: right;\">\n",
       "      <th></th>\n",
       "      <th>KEY</th>\n",
       "      <th>state</th>\n",
       "      <th>year</th>\n",
       "      <th>month</th>\n",
       "      <th>period</th>\n",
       "      <th>indicator</th>\n",
       "      <th>data_value</th>\n",
       "      <th>state_name</th>\n",
       "      <th>Date</th>\n",
       "      <th>unemployment_rate</th>\n",
       "    </tr>\n",
       "  </thead>\n",
       "  <tbody>\n",
       "    <tr>\n",
       "      <th>0</th>\n",
       "      <td>HawaiiNovember2017</td>\n",
       "      <td>HI</td>\n",
       "      <td>2017.0</td>\n",
       "      <td>November</td>\n",
       "      <td>12 month-ending</td>\n",
       "      <td>Heroin (T40.1)</td>\n",
       "      <td>0.0</td>\n",
       "      <td>Hawaii</td>\n",
       "      <td>11/1/2017</td>\n",
       "      <td>2.2</td>\n",
       "    </tr>\n",
       "    <tr>\n",
       "      <th>1</th>\n",
       "      <td>HawaiiOctober2017</td>\n",
       "      <td>HI</td>\n",
       "      <td>2017.0</td>\n",
       "      <td>October</td>\n",
       "      <td>12 month-ending</td>\n",
       "      <td>Heroin (T40.1)</td>\n",
       "      <td>0.0</td>\n",
       "      <td>Hawaii</td>\n",
       "      <td>10/1/2017</td>\n",
       "      <td>2.2</td>\n",
       "    </tr>\n",
       "    <tr>\n",
       "      <th>2</th>\n",
       "      <td>HawaiiApril2018</td>\n",
       "      <td>HI</td>\n",
       "      <td>2018.0</td>\n",
       "      <td>April</td>\n",
       "      <td>12 month-ending</td>\n",
       "      <td>Heroin (T40.1)</td>\n",
       "      <td>13.0</td>\n",
       "      <td>Hawaii</td>\n",
       "      <td>4/1/2018</td>\n",
       "      <td>2.3</td>\n",
       "    </tr>\n",
       "    <tr>\n",
       "      <th>3</th>\n",
       "      <td>HawaiiAugust2017</td>\n",
       "      <td>HI</td>\n",
       "      <td>2017.0</td>\n",
       "      <td>August</td>\n",
       "      <td>12 month-ending</td>\n",
       "      <td>Heroin (T40.1)</td>\n",
       "      <td>0.0</td>\n",
       "      <td>Hawaii</td>\n",
       "      <td>8/1/2017</td>\n",
       "      <td>2.3</td>\n",
       "    </tr>\n",
       "    <tr>\n",
       "      <th>4</th>\n",
       "      <td>HawaiiDecember2017</td>\n",
       "      <td>HI</td>\n",
       "      <td>2017.0</td>\n",
       "      <td>December</td>\n",
       "      <td>12 month-ending</td>\n",
       "      <td>Heroin (T40.1)</td>\n",
       "      <td>0.0</td>\n",
       "      <td>Hawaii</td>\n",
       "      <td>12/1/2017</td>\n",
       "      <td>2.3</td>\n",
       "    </tr>\n",
       "  </tbody>\n",
       "</table>\n",
       "</div>"
      ],
      "text/plain": [
       "                  KEY state    year     month           period  \\\n",
       "0  HawaiiNovember2017    HI  2017.0  November  12 month-ending   \n",
       "1   HawaiiOctober2017    HI  2017.0   October  12 month-ending   \n",
       "2     HawaiiApril2018    HI  2018.0     April  12 month-ending   \n",
       "3    HawaiiAugust2017    HI  2017.0    August  12 month-ending   \n",
       "4  HawaiiDecember2017    HI  2017.0  December  12 month-ending   \n",
       "\n",
       "        indicator  data_value state_name       Date  unemployment_rate  \n",
       "0  Heroin (T40.1)         0.0     Hawaii  11/1/2017                2.2  \n",
       "1  Heroin (T40.1)         0.0     Hawaii  10/1/2017                2.2  \n",
       "2  Heroin (T40.1)        13.0     Hawaii   4/1/2018                2.3  \n",
       "3  Heroin (T40.1)         0.0     Hawaii   8/1/2017                2.3  \n",
       "4  Heroin (T40.1)         0.0     Hawaii  12/1/2017                2.3  "
      ]
     },
     "execution_count": 2,
     "metadata": {},
     "output_type": "execute_result"
    }
   ],
   "source": [
    "#Reading the csv into pandas\n",
    "data = pd.read_csv('csv_data/Herion Drug Data.csv')\n",
    "data = data.fillna(0)\n",
    "data.head()"
   ]
  },
  {
   "cell_type": "code",
   "execution_count": 3,
   "metadata": {},
   "outputs": [
    {
     "data": {
      "text/html": [
       "<div>\n",
       "<style scoped>\n",
       "    .dataframe tbody tr th:only-of-type {\n",
       "        vertical-align: middle;\n",
       "    }\n",
       "\n",
       "    .dataframe tbody tr th {\n",
       "        vertical-align: top;\n",
       "    }\n",
       "\n",
       "    .dataframe thead th {\n",
       "        text-align: right;\n",
       "    }\n",
       "</style>\n",
       "<table border=\"1\" class=\"dataframe\">\n",
       "  <thead>\n",
       "    <tr style=\"text-align: right;\">\n",
       "      <th></th>\n",
       "      <th>year</th>\n",
       "    </tr>\n",
       "  </thead>\n",
       "  <tbody>\n",
       "    <tr>\n",
       "      <th>0</th>\n",
       "      <td>2017.0</td>\n",
       "    </tr>\n",
       "    <tr>\n",
       "      <th>1</th>\n",
       "      <td>2017.0</td>\n",
       "    </tr>\n",
       "    <tr>\n",
       "      <th>2</th>\n",
       "      <td>2018.0</td>\n",
       "    </tr>\n",
       "    <tr>\n",
       "      <th>3</th>\n",
       "      <td>2017.0</td>\n",
       "    </tr>\n",
       "    <tr>\n",
       "      <th>4</th>\n",
       "      <td>2017.0</td>\n",
       "    </tr>\n",
       "  </tbody>\n",
       "</table>\n",
       "</div>"
      ],
      "text/plain": [
       "     year\n",
       "0  2017.0\n",
       "1  2017.0\n",
       "2  2018.0\n",
       "3  2017.0\n",
       "4  2017.0"
      ]
     },
     "execution_count": 3,
     "metadata": {},
     "output_type": "execute_result"
    }
   ],
   "source": [
    "#creating our lists\n",
    "X = data[[\"year\"]]\n",
    "X.head()"
   ]
  },
  {
   "cell_type": "code",
   "execution_count": 4,
   "metadata": {},
   "outputs": [],
   "source": [
    "\n",
    "y = data[\"unemployment_rate\"]\n"
   ]
  },
  {
   "cell_type": "code",
   "execution_count": 5,
   "metadata": {},
   "outputs": [],
   "source": [
    "#Creating labels\n",
    "from sklearn import preprocessing\n",
    "label_encoder = preprocessing.LabelEncoder()\n",
    "label_encoder.fit(y)\n",
    "encoded_y = label_encoder.transform(y)\n",
    "\n",
    "#encoded_y_train = encoded_y_train.astype(float)\n",
    "#encoded_y_test = encoded_y_test.astype(float)\n",
    "# Step 2: Convert encoded labels to one-hot-encoding\n",
    "y_categorical = to_categorical(encoded_y)"
   ]
  },
  {
   "cell_type": "code",
   "execution_count": 6,
   "metadata": {},
   "outputs": [
    {
     "name": "stdout",
     "output_type": "stream",
     "text": [
      "(1249, 1)\n",
      "0       2.2\n",
      "1       2.2\n",
      "2       2.3\n",
      "3       2.3\n",
      "4       2.3\n",
      "       ... \n",
      "1661    0.0\n",
      "1662    0.0\n",
      "1663    0.0\n",
      "1664    0.0\n",
      "1665    0.0\n",
      "Name: unemployment_rate, Length: 1666, dtype: float64\n"
     ]
    }
   ],
   "source": [
    "#Splitting our training data and test data\n",
    "X_train, X_test, y_train, y_test = train_test_split(X, y_categorical, random_state=100)\n",
    "X_train = X_train.values\n",
    "X_test = X_test.values\n",
    "print(X_train.shape)\n",
    "print(y)"
   ]
  },
  {
   "cell_type": "code",
   "execution_count": 7,
   "metadata": {},
   "outputs": [
    {
     "name": "stdout",
     "output_type": "stream",
     "text": [
      "(1249, 1)\n"
     ]
    }
   ],
   "source": [
    "#Scaling our data\n",
    "X_scaler = MinMaxScaler().fit(X_train)\n",
    "X_train_scaled = X_scaler.transform(X_train)\n",
    "X_test_scaled = X_scaler.transform(X_test)\n",
    "print(X_train.shape)"
   ]
  },
  {
   "cell_type": "code",
   "execution_count": 8,
   "metadata": {},
   "outputs": [],
   "source": [
    "# Create model and add layers\n",
    "model = Sequential()\n",
    "model.add(Dense(units=100, activation='relu', input_dim=X_train_scaled.shape[1]))\n",
    "model.add(Dense(units=100, activation='relu'))\n",
    "model.add(Dense(units=y_categorical.shape[1], activation='softmax'))"
   ]
  },
  {
   "cell_type": "code",
   "execution_count": 9,
   "metadata": {},
   "outputs": [
    {
     "name": "stdout",
     "output_type": "stream",
     "text": [
      "(1249, 1)\n",
      "(1249, 53)\n"
     ]
    }
   ],
   "source": [
    "# Compile and fit the model\n",
    "model.compile(optimizer='adam',\n",
    "              loss='categorical_crossentropy',\n",
    "              metrics=['accuracy'])\n",
    "print(X_train_scaled.shape)\n",
    "print(y_train.shape)"
   ]
  },
  {
   "cell_type": "code",
   "execution_count": 10,
   "metadata": {
    "scrolled": true
   },
   "outputs": [
    {
     "name": "stdout",
     "output_type": "stream",
     "text": [
      "Epoch 1/60\n",
      "40/40 [==============================] - 0s 773us/step - loss: 3.9289 - accuracy: 0.1177\n",
      "Epoch 2/60\n",
      "40/40 [==============================] - 0s 698us/step - loss: 3.8143 - accuracy: 0.1345\n",
      "Epoch 3/60\n",
      "40/40 [==============================] - 0s 723us/step - loss: 3.7080 - accuracy: 0.1449\n",
      "Epoch 4/60\n",
      "40/40 [==============================] - 0s 848us/step - loss: 3.5845 - accuracy: 0.1377\n",
      "Epoch 5/60\n",
      "40/40 [==============================] - 0s 748us/step - loss: 3.4532 - accuracy: 0.1449\n",
      "Epoch 6/60\n",
      "40/40 [==============================] - 0s 798us/step - loss: 3.3980 - accuracy: 0.1449\n",
      "Epoch 7/60\n",
      "40/40 [==============================] - 0s 748us/step - loss: 3.3805 - accuracy: 0.1449\n",
      "Epoch 8/60\n",
      "40/40 [==============================] - 0s 798us/step - loss: 3.3768 - accuracy: 0.1449\n",
      "Epoch 9/60\n",
      "40/40 [==============================] - 0s 748us/step - loss: 3.3744 - accuracy: 0.1369\n",
      "Epoch 10/60\n",
      "40/40 [==============================] - 0s 748us/step - loss: 3.3760 - accuracy: 0.1369\n",
      "Epoch 11/60\n",
      "40/40 [==============================] - 0s 748us/step - loss: 3.3736 - accuracy: 0.1369\n",
      "Epoch 12/60\n",
      "40/40 [==============================] - 0s 817us/step - loss: 3.3716 - accuracy: 0.1361\n",
      "Epoch 13/60\n",
      "40/40 [==============================] - 0s 748us/step - loss: 3.3743 - accuracy: 0.1321\n",
      "Epoch 14/60\n",
      "40/40 [==============================] - 0s 748us/step - loss: 3.3698 - accuracy: 0.1449\n",
      "Epoch 15/60\n",
      "40/40 [==============================] - 0s 773us/step - loss: 3.3700 - accuracy: 0.1449\n",
      "Epoch 16/60\n",
      "40/40 [==============================] - 0s 748us/step - loss: 3.3695 - accuracy: 0.1329\n",
      "Epoch 17/60\n",
      "40/40 [==============================] - 0s 773us/step - loss: 3.3705 - accuracy: 0.1449\n",
      "Epoch 18/60\n",
      "40/40 [==============================] - 0s 972us/step - loss: 3.3709 - accuracy: 0.1449\n",
      "Epoch 19/60\n",
      "40/40 [==============================] - 0s 898us/step - loss: 3.3696 - accuracy: 0.1393\n",
      "Epoch 20/60\n",
      "40/40 [==============================] - 0s 923us/step - loss: 3.3694 - accuracy: 0.1337\n",
      "Epoch 21/60\n",
      "40/40 [==============================] - 0s 997us/step - loss: 3.3677 - accuracy: 0.1449\n",
      "Epoch 22/60\n",
      "40/40 [==============================] - 0s 898us/step - loss: 3.3678 - accuracy: 0.1417\n",
      "Epoch 23/60\n",
      "40/40 [==============================] - 0s 947us/step - loss: 3.3674 - accuracy: 0.1449\n",
      "Epoch 24/60\n",
      "40/40 [==============================] - 0s 748us/step - loss: 3.3673 - accuracy: 0.1449\n",
      "Epoch 25/60\n",
      "40/40 [==============================] - 0s 698us/step - loss: 3.3675 - accuracy: 0.1393\n",
      "Epoch 26/60\n",
      "40/40 [==============================] - 0s 773us/step - loss: 3.3651 - accuracy: 0.1449\n",
      "Epoch 27/60\n",
      "40/40 [==============================] - 0s 798us/step - loss: 3.3683 - accuracy: 0.1449\n",
      "Epoch 28/60\n",
      "40/40 [==============================] - 0s 798us/step - loss: 3.3681 - accuracy: 0.1449\n",
      "Epoch 29/60\n",
      "40/40 [==============================] - 0s 848us/step - loss: 3.3656 - accuracy: 0.1449\n",
      "Epoch 30/60\n",
      "40/40 [==============================] - 0s 823us/step - loss: 3.3683 - accuracy: 0.1449\n",
      "Epoch 31/60\n",
      "40/40 [==============================] - 0s 848us/step - loss: 3.3673 - accuracy: 0.1449\n",
      "Epoch 32/60\n",
      "40/40 [==============================] - 0s 885us/step - loss: 3.3648 - accuracy: 0.1449\n",
      "Epoch 33/60\n",
      "40/40 [==============================] - 0s 748us/step - loss: 3.3647 - accuracy: 0.1449\n",
      "Epoch 34/60\n",
      "40/40 [==============================] - 0s 698us/step - loss: 3.3657 - accuracy: 0.1449\n",
      "Epoch 35/60\n",
      "40/40 [==============================] - 0s 773us/step - loss: 3.3660 - accuracy: 0.1449\n",
      "Epoch 36/60\n",
      "40/40 [==============================] - 0s 773us/step - loss: 3.3654 - accuracy: 0.1449\n",
      "Epoch 37/60\n",
      "40/40 [==============================] - 0s 773us/step - loss: 3.3667 - accuracy: 0.1393\n",
      "Epoch 38/60\n",
      "40/40 [==============================] - 0s 748us/step - loss: 3.3658 - accuracy: 0.1449\n",
      "Epoch 39/60\n",
      "40/40 [==============================] - 0s 757us/step - loss: 3.3646 - accuracy: 0.1449\n",
      "Epoch 40/60\n",
      "40/40 [==============================] - 0s 748us/step - loss: 3.3659 - accuracy: 0.1449\n",
      "Epoch 41/60\n",
      "40/40 [==============================] - 0s 873us/step - loss: 3.3660 - accuracy: 0.1449\n",
      "Epoch 42/60\n",
      "40/40 [==============================] - 0s 748us/step - loss: 3.3663 - accuracy: 0.1449\n",
      "Epoch 43/60\n",
      "40/40 [==============================] - 0s 798us/step - loss: 3.3669 - accuracy: 0.1449\n",
      "Epoch 44/60\n",
      "40/40 [==============================] - 0s 823us/step - loss: 3.3653 - accuracy: 0.1449\n",
      "Epoch 45/60\n",
      "40/40 [==============================] - 0s 773us/step - loss: 3.3649 - accuracy: 0.1449\n",
      "Epoch 46/60\n",
      "40/40 [==============================] - 0s 838us/step - loss: 3.3646 - accuracy: 0.1433\n",
      "Epoch 47/60\n",
      "40/40 [==============================] - 0s 773us/step - loss: 3.3693 - accuracy: 0.1393\n",
      "Epoch 48/60\n",
      "40/40 [==============================] - 0s 798us/step - loss: 3.3648 - accuracy: 0.1377\n",
      "Epoch 49/60\n",
      "40/40 [==============================] - 0s 796us/step - loss: 3.3649 - accuracy: 0.1449\n",
      "Epoch 50/60\n",
      "40/40 [==============================] - 0s 798us/step - loss: 3.3652 - accuracy: 0.1449\n",
      "Epoch 51/60\n",
      "40/40 [==============================] - 0s 823us/step - loss: 3.3650 - accuracy: 0.1449\n",
      "Epoch 52/60\n",
      "40/40 [==============================] - 0s 738us/step - loss: 3.3649 - accuracy: 0.1449\n",
      "Epoch 53/60\n",
      "40/40 [==============================] - 0s 748us/step - loss: 3.3661 - accuracy: 0.1449\n",
      "Epoch 54/60\n",
      "40/40 [==============================] - 0s 798us/step - loss: 3.3632 - accuracy: 0.1449\n",
      "Epoch 55/60\n",
      "40/40 [==============================] - 0s 748us/step - loss: 3.3651 - accuracy: 0.1449\n",
      "Epoch 56/60\n",
      "40/40 [==============================] - 0s 748us/step - loss: 3.3647 - accuracy: 0.1449\n",
      "Epoch 57/60\n",
      "40/40 [==============================] - 0s 798us/step - loss: 3.3654 - accuracy: 0.1345\n",
      "Epoch 58/60\n",
      "40/40 [==============================] - 0s 773us/step - loss: 3.3658 - accuracy: 0.1377\n",
      "Epoch 59/60\n",
      "40/40 [==============================] - 0s 748us/step - loss: 3.3644 - accuracy: 0.1449\n",
      "Epoch 60/60\n",
      "40/40 [==============================] - 0s 748us/step - loss: 3.3640 - accuracy: 0.1449\n"
     ]
    },
    {
     "data": {
      "text/plain": [
       "<tensorflow.python.keras.callbacks.History at 0x1d0eb835710>"
      ]
     },
     "execution_count": 10,
     "metadata": {},
     "output_type": "execute_result"
    }
   ],
   "source": [
    "#Running the model\n",
    "model.fit(\n",
    "    X_train_scaled,\n",
    "    y_train,\n",
    "    epochs=60,\n",
    "    shuffle=True,\n",
    "    verbose=1\n",
    ")"
   ]
  },
  {
   "cell_type": "code",
   "execution_count": 11,
   "metadata": {},
   "outputs": [
    {
     "name": "stdout",
     "output_type": "stream",
     "text": [
      "14/14 - 0s - loss: 3.3288 - accuracy: 0.1511\n",
      "Normal Neural Network - Loss: 3.3287711143493652, Accuracy: 0.15107913315296173\n"
     ]
    }
   ],
   "source": [
    "#Prediction Percentage\n",
    "model_loss, model_accuracy = model.evaluate(\n",
    "    X_test_scaled, y_test, verbose=2)\n",
    "print(\n",
    "    f\"Normal Neural Network - Loss: {model_loss}, Accuracy: {model_accuracy}\")"
   ]
  },
  {
   "cell_type": "code",
   "execution_count": 12,
   "metadata": {},
   "outputs": [
    {
     "name": "stdout",
     "output_type": "stream",
     "text": [
      "WARNING:tensorflow:From <ipython-input-12-4db8b0f5c0b2>:1: Sequential.predict_classes (from tensorflow.python.keras.engine.sequential) is deprecated and will be removed after 2021-01-01.\n",
      "Instructions for updating:\n",
      "Please use instead:* `np.argmax(model.predict(x), axis=-1)`,   if your model does multi-class classification   (e.g. if it uses a `softmax` last-layer activation).* `(model.predict(x) > 0.5).astype(\"int32\")`,   if your model does binary classification   (e.g. if it uses a `sigmoid` last-layer activation).\n"
     ]
    }
   ],
   "source": [
    "encoded_predictions = model.predict_classes(X_test_scaled[:5])\n",
    "prediction_labels = label_encoder.inverse_transform(encoded_predictions)"
   ]
  },
  {
   "cell_type": "code",
   "execution_count": 13,
   "metadata": {},
   "outputs": [
    {
     "name": "stdout",
     "output_type": "stream",
     "text": [
      "Predicted classes: [0.  4.4 4.4 4.4 4.4]\n",
      "Actual Labels: [array([1., 0., 0., 0., 0., 0., 0., 0., 0., 0., 0., 0., 0., 0., 0., 0., 0.,\n",
      "       0., 0., 0., 0., 0., 0., 0., 0., 0., 0., 0., 0., 0., 0., 0., 0., 0.,\n",
      "       0., 0., 0., 0., 0., 0., 0., 0., 0., 0., 0., 0., 0., 0., 0., 0., 0.,\n",
      "       0., 0.], dtype=float32), array([0., 0., 0., 0., 0., 0., 0., 0., 0., 0., 0., 0., 0., 0., 0., 0., 0.,\n",
      "       0., 0., 0., 0., 0., 0., 1., 0., 0., 0., 0., 0., 0., 0., 0., 0., 0.,\n",
      "       0., 0., 0., 0., 0., 0., 0., 0., 0., 0., 0., 0., 0., 0., 0., 0., 0.,\n",
      "       0., 0.], dtype=float32), array([0., 0., 0., 0., 0., 0., 0., 0., 0., 0., 0., 0., 0., 0., 0., 0., 0.,\n",
      "       0., 0., 0., 0., 0., 0., 0., 0., 0., 1., 0., 0., 0., 0., 0., 0., 0.,\n",
      "       0., 0., 0., 0., 0., 0., 0., 0., 0., 0., 0., 0., 0., 0., 0., 0., 0.,\n",
      "       0., 0.], dtype=float32), array([0., 0., 0., 0., 0., 0., 0., 0., 0., 0., 0., 0., 0., 0., 0., 0., 0.,\n",
      "       0., 0., 0., 0., 0., 0., 0., 0., 0., 0., 0., 1., 0., 0., 0., 0., 0.,\n",
      "       0., 0., 0., 0., 0., 0., 0., 0., 0., 0., 0., 0., 0., 0., 0., 0., 0.,\n",
      "       0., 0.], dtype=float32), array([0., 0., 0., 0., 0., 0., 0., 0., 0., 0., 0., 0., 0., 0., 0., 0., 1.,\n",
      "       0., 0., 0., 0., 0., 0., 0., 0., 0., 0., 0., 0., 0., 0., 0., 0., 0.,\n",
      "       0., 0., 0., 0., 0., 0., 0., 0., 0., 0., 0., 0., 0., 0., 0., 0., 0.,\n",
      "       0., 0.], dtype=float32)]\n"
     ]
    }
   ],
   "source": [
    "#Model Labels\n",
    "print(f\"Predicted classes: {prediction_labels}\")\n",
    "print(f\"Actual Labels: {list(y_test[:5])}\")"
   ]
  },
  {
   "cell_type": "code",
   "execution_count": null,
   "metadata": {},
   "outputs": [],
   "source": [
    ".to_csv(\"csv_data/DrugData.csv\",index=False)"
   ]
  }
 ],
 "metadata": {
  "kernelspec": {
   "display_name": "Python 3",
   "language": "python",
   "name": "python3"
  },
  "language_info": {
   "codemirror_mode": {
    "name": "ipython",
    "version": 3
   },
   "file_extension": ".py",
   "mimetype": "text/x-python",
   "name": "python",
   "nbconvert_exporter": "python",
   "pygments_lexer": "ipython3",
   "version": "3.6.10"
  }
 },
 "nbformat": 4,
 "nbformat_minor": 4
}
